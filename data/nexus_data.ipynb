{
 "cells": [
  {
   "cell_type": "code",
   "execution_count": 117,
   "metadata": {},
   "outputs": [],
   "source": [
    "import mne\n",
    "import glob\n",
    "import pandas as pd\n",
    "from pathlib import Path\n",
    "import numpy as np"
   ]
  },
  {
   "cell_type": "code",
   "execution_count": 118,
   "metadata": {},
   "outputs": [],
   "source": [
    "def pairwise(iterable):\n",
    "    \"s -> (s0, s1), (s2, s3), (s4, s5), ...\"\n",
    "    a = iter(iterable)\n",
    "    return zip(a, a)\n",
    "\n",
    "def set_labels(cropped,raw,labels,score_type='valence',clip_duration=50):\n",
    "    anon = {i:[] for i in ['onsets','duration','description']}\n",
    "    for annotation in pairwise(raw.annotations):\n",
    "        video_name =annotation[0]['description'].split('_')\n",
    "        if video_name[0]=='video':\n",
    "            if cropped:\n",
    "                onset = annotation[1]['onset']-clip_duration\n",
    "                duration = clip_duration\n",
    "            else:\n",
    "                onset = annotation[0]['onset']\n",
    "                duration = annotation[1]['onset']-annotation[0]['onset']\n",
    "            video_id = int(video_name[2])\n",
    "            idx = labels.index[labels['video_id'] == video_id]\n",
    "            anon['onsets'].append(onset)\n",
    "            anon['duration'].append(duration)\n",
    "            anon['description'].append(labels[score_type].values[idx][0])\n",
    "    annotations = mne.Annotations(\n",
    "        onset=anon['onsets'],  # in seconds, the moment each epoch starts\n",
    "        duration=anon['duration'],  # in seconds, too, duration of each epoch (if data clipped 50s, should be equal for all)\n",
    "        description=anon['description'],\n",
    "    )\n",
    "    raw.set_annotations(annotations);\n",
    "    return raw,annotations.description\n",
    "\n",
    "\n",
    "def get_segments(raw,labels,score_type,cropped):\n",
    "    raw,labels = set_labels(cropped,raw,labels,score_type)\n",
    "    segments = []\n",
    "    events_from_annot, event_dict = mne.events_from_annotations(raw)\n",
    "    start_idx = events_from_annot[:,0]\n",
    "    end_idx = events_from_annot[:,0] + (raw.annotations.duration*raw.info['sfreq']).astype(int)\n",
    "    for indices in zip(start_idx,end_idx):\n",
    "        segments.append(raw.get_data()[:,indices[0]:indices[1]])\n",
    "    return segments\n",
    "\n",
    "def get_segments_labels(folder,subject,cropped= True, score_type='valence'):\n",
    "    raw = mne.io.Raw(folder+'Data/'+subject+'_eeg.fif')\n",
    "    labels = pd.read_csv(folder+'ratings/'+subject+'.csv')\n",
    "    segments = get_segments(raw,labels,score_type,cropped)\n",
    "    return segments, labels"
   ]
  },
  {
   "cell_type": "code",
   "execution_count": null,
   "metadata": {},
   "outputs": [],
   "source": []
  },
  {
   "cell_type": "code",
   "execution_count": 119,
   "metadata": {},
   "outputs": [
    {
     "name": "stdout",
     "output_type": "stream",
     "text": [
      "Subject: kaleem\n",
      "Opening raw data file /home/s210382/Insai/DTU/Data/Nexus/Data/kaleem_eeg.fif...\n",
      "    Range : 0 ... 912219 =      0.000 ...  3648.876 secs\n",
      "Ready.\n",
      "Used Annotations descriptions: ['1', '2', '3', '4', '5']\n",
      "Subject: subj10\n",
      "Opening raw data file /home/s210382/Insai/DTU/Data/Nexus/Data/subj10_eeg.fif...\n",
      "    Range : 0 ... 849419 =      0.000 ...  3397.676 secs\n",
      "Ready.\n",
      "Used Annotations descriptions: ['1', '2', '4', '5']\n",
      "Subject: subj13\n",
      "Opening raw data file /home/s210382/Insai/DTU/Data/Nexus/Data/subj13_eeg.fif...\n",
      "    Range : 0 ... 904669 =      0.000 ...  3618.676 secs\n",
      "Ready.\n",
      "Used Annotations descriptions: ['1', '2', '3', '4', '5']\n",
      "Subject: subj14\n",
      "Opening raw data file /home/s210382/Insai/DTU/Data/Nexus/Data/subj14_eeg.fif...\n",
      "    Range : 0 ... 825369 =      0.000 ...  3322.205 secs\n",
      "Ready.\n",
      "Used Annotations descriptions: ['1', '2', '3', '4', '5']\n"
     ]
    }
   ],
   "source": [
    "cropped = False\n",
    "folder = \"/home/s210382/Insai/DTU/Data/Nexus/\"\n",
    "files = sorted(glob.glob(folder+\"Data/*\"))\n",
    "for filename in files[0:1]:\n",
    "    subject = Path(filename).stem[:-4]\n",
    "    print('Subject:',subject)\n",
    "    segments, labels = get_segments_labels(folder,subject,cropped,'valence')\n",
    "    ##TODO: save segments and labels in a seperate file\n",
    "    "
   ]
  },
  {
   "cell_type": "code",
   "execution_count": null,
   "metadata": {},
   "outputs": [],
   "source": []
  }
 ],
 "metadata": {
  "kernelspec": {
   "display_name": "thesis",
   "language": "python",
   "name": "python3"
  },
  "language_info": {
   "codemirror_mode": {
    "name": "ipython",
    "version": 3
   },
   "file_extension": ".py",
   "mimetype": "text/x-python",
   "name": "python",
   "nbconvert_exporter": "python",
   "pygments_lexer": "ipython3",
   "version": "3.10.10"
  },
  "orig_nbformat": 4
 },
 "nbformat": 4,
 "nbformat_minor": 2
}
