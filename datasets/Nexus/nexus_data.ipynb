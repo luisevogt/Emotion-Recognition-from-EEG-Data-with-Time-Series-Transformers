{
 "cells": [
  {
   "cell_type": "code",
   "execution_count": 2,
   "metadata": {},
   "outputs": [],
   "source": [
    "import os\n",
    "\n",
    "import mne\n",
    "import glob\n",
    "import pandas as pd\n",
    "from pathlib import Path\n",
    "import numpy as np"
   ]
  },
  {
   "cell_type": "code",
   "execution_count": 3,
   "metadata": {},
   "outputs": [],
   "source": [
    "def pairwise(iterable):\n",
    "    \"s -> (s0, s1), (s2, s3), (s4, s5), ...\"\n",
    "    a = iter(iterable)\n",
    "    return zip(a, a)\n",
    "\n",
    "def set_labels(cropped,raw,labels,clip_duration=50):\n",
    "    anon = {i:[] for i in ['onsets','duration','description']}\n",
    "    l = []\n",
    "    for annotation in pairwise(raw.annotations):\n",
    "        video_name =annotation[0]['description'].split('_')\n",
    "        if video_name[0]=='video':\n",
    "            if cropped:\n",
    "                onset = annotation[1]['onset']-clip_duration\n",
    "                duration = clip_duration\n",
    "            else:\n",
    "                onset = annotation[0]['onset']\n",
    "                duration = annotation[1]['onset']-annotation[0]['onset']\n",
    "            video_id = int(video_name[2])\n",
    "            idx = labels.index[labels['video_id'] == video_id]\n",
    "            anon['onsets'].append(onset)\n",
    "            anon['duration'].append(duration)\n",
    "            l.append([labels['valence'].values[idx][0], labels['arousal'].values[idx][0], labels['dominance'].values[idx][0]])\n",
    "            # anon['description'].append([labels['valence'].values[idx][0], labels['arousal'].values[idx][0], labels['dominance'].values[idx][0]])\n",
    "    annotations = mne.Annotations(\n",
    "        onset=anon['onsets'],  # in seconds, the moment each epoch starts\n",
    "        duration=anon['duration'],  # in seconds, too, duration of each epoch (if data clipped 50s, should be equal for all)\n",
    "        description=[\"a n dim description would be nice\" for _ in range(len(l))],\n",
    "    )\n",
    "    raw.set_annotations(annotations)\n",
    "    return raw, l\n",
    "\n",
    "\n",
    "def get_segments(raw,labels,cropped):\n",
    "    raw,labels = set_labels(cropped,raw,labels)\n",
    "    segments = []\n",
    "    events_from_annot, event_dict = mne.events_from_annotations(raw)\n",
    "    start_idx = events_from_annot[:,0]\n",
    "    end_idx = events_from_annot[:,0] + (raw.annotations.duration*raw.info['sfreq']).astype(int)\n",
    "    # filtering\n",
    "    filtered_raw = raw.filter(l_freq=1, h_freq=45,verbose=False).notch_filter([50,100],verbose=False)\n",
    "    for indices in zip(start_idx,end_idx):\n",
    "        segments.append(filtered_raw.get_data()[:,indices[0]:indices[1]])\n",
    "    return segments, labels\n",
    "\n",
    "def get_segments_labels(folder,subject,cropped=True):\n",
    "    raw = mne.io.Raw(folder+'Data/'+subject+'_eeg.fif', preload=True)\n",
    "    labels = pd.read_csv(folder+'ratings/'+subject+'.csv')\n",
    "    segments, labels = get_segments(raw,labels,cropped)\n",
    "    return segments, labels"
   ]
  },
  {
   "cell_type": "code",
   "execution_count": 3,
   "metadata": {},
   "outputs": [],
   "source": []
  },
  {
   "cell_type": "code",
   "execution_count": 4,
   "metadata": {},
   "outputs": [
    {
     "name": "stdout",
     "output_type": "stream",
     "text": [
      "Subject: kaleem\n",
      "Opening raw data file ./Data/kaleem_eeg.fif...\n",
      "    Range : 0 ... 912219 =      0.000 ...  3648.876 secs\n",
      "Ready.\n",
      "Reading 0 ... 912219  =      0.000 ...  3648.876 secs...\n",
      "Used Annotations descriptions: ['a n dim description would be nice']\n",
      "(16, 8, 12500)\n",
      "Subject: subj10\n",
      "Opening raw data file ./Data/subj10_eeg.fif...\n",
      "    Range : 0 ... 849419 =      0.000 ...  3397.676 secs\n",
      "Ready.\n",
      "Reading 0 ... 849419  =      0.000 ...  3397.676 secs...\n",
      "Used Annotations descriptions: ['a n dim description would be nice']\n",
      "(16, 8, 12500)\n",
      "Subject: subj13\n",
      "Opening raw data file ./Data/subj13_eeg.fif...\n",
      "    Range : 0 ... 904669 =      0.000 ...  3618.676 secs\n",
      "Ready.\n",
      "Reading 0 ... 904669  =      0.000 ...  3618.676 secs...\n",
      "Used Annotations descriptions: ['a n dim description would be nice']\n",
      "(16, 8, 12500)\n",
      "Subject: subj14\n",
      "Opening raw data file ./Data/subj14_eeg.fif...\n",
      "    Range : 0 ... 825369 =      0.000 ...  3322.205 secs\n",
      "Ready.\n",
      "Reading 0 ... 825369  =      0.000 ...  3322.205 secs...\n",
      "Used Annotations descriptions: ['a n dim description would be nice']\n",
      "(16, 8, 12422)\n",
      "Subject: subj15\n",
      "Opening raw data file ./Data/subj15_eeg.fif...\n",
      "    Range : 0 ... 831489 =      0.000 ...  3332.073 secs\n",
      "Ready.\n",
      "Reading 0 ... 831489  =      0.000 ...  3332.073 secs...\n",
      "Used Annotations descriptions: ['a n dim description would be nice']\n",
      "(16, 8, 12477)\n",
      "Subject: subj16\n",
      "Opening raw data file ./Data/subj16_eeg.fif...\n",
      "    Range : 0 ... 872479 =      0.000 ...  3495.619 secs\n",
      "Ready.\n",
      "Reading 0 ... 872479  =      0.000 ...  3495.619 secs...\n",
      "Used Annotations descriptions: ['a n dim description would be nice']\n",
      "(16, 8, 12479)\n",
      "Subject: subj5\n",
      "Opening raw data file ./Data/subj5_eeg.fif...\n",
      "    Range : 0 ... 811589 =      0.000 ...  3246.356 secs\n",
      "Ready.\n",
      "Reading 0 ... 811589  =      0.000 ...  3246.356 secs...\n",
      "Used Annotations descriptions: ['a n dim description would be nice']\n",
      "(16, 8, 12500)\n"
     ]
    }
   ],
   "source": [
    "import pickle\n",
    "\n",
    "cropped = True\n",
    "folder = \"./\"\n",
    "files = sorted(glob.glob(folder+\"Data/*\"))\n",
    "preprocessed_path = os.path.join(folder, 'preprocessed_data')\n",
    "Path(preprocessed_path).mkdir(parents=True, exist_ok=True)\n",
    "for filename in files:\n",
    "    subject = Path(filename).stem[:-4]\n",
    "    print('Subject:',subject)\n",
    "    segments, labels = get_segments_labels(folder,subject,cropped)\n",
    "    if subject == 'kaleem':\n",
    "        segments = segments[:-2]\n",
    "        labels = labels[:-2]\n",
    "    stacked_segments = np.stack(segments, axis=0)\n",
    "    labels = np.array(labels)\n",
    "    # scale data\n",
    "    scaler = mne.decoding.Scaler(scalings='mean')\n",
    "    scaled_data = scaler.fit_transform(stacked_segments)\n",
    "    print(scaled_data.shape)\n",
    "    data = {'data': scaled_data, 'labels': labels}\n",
    "    with open(os.path.join(folder, 'preprocessed_data', f'{subject}.pkl'), 'wb') as file:\n",
    "        pickle.dump(data, file)\n"
   ]
  },
  {
   "cell_type": "code",
   "execution_count": 4,
   "metadata": {},
   "outputs": [],
   "source": []
  },
  {
   "cell_type": "code",
   "execution_count": 4,
   "outputs": [],
   "source": [],
   "metadata": {
    "collapsed": false,
    "pycharm": {
     "name": "#%%\n"
    }
   }
  },
  {
   "cell_type": "code",
   "execution_count": 4,
   "metadata": {},
   "outputs": [],
   "source": []
  }
 ],
 "metadata": {
  "kernelspec": {
   "display_name": "Python 3 (ipykernel)",
   "language": "python",
   "name": "python3"
  },
  "language_info": {
   "codemirror_mode": {
    "name": "ipython",
    "version": 3
   },
   "file_extension": ".py",
   "mimetype": "text/x-python",
   "name": "python",
   "nbconvert_exporter": "python",
   "pygments_lexer": "ipython3",
   "version": "3.10.9"
  }
 },
 "nbformat": 4,
 "nbformat_minor": 2
}